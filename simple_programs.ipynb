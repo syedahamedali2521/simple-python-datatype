{
  "nbformat": 4,
  "nbformat_minor": 0,
  "metadata": {
    "colab": {
      "provenance": []
    },
    "kernelspec": {
      "name": "python3",
      "display_name": "Python 3"
    },
    "language_info": {
      "name": "python"
    }
  },
  "cells": [
    {
      "cell_type": "code",
      "execution_count": null,
      "metadata": {
        "id": "KwtvngQbB0pf",
        "colab": {
          "base_uri": "https://localhost:8080/"
        },
        "outputId": "37ed2440-391b-4ccf-a543-273938e4c2c0"
      },
      "outputs": [
        {
          "output_type": "stream",
          "name": "stdout",
          "text": [
            "45\n",
            "32\n",
            "45 32\n",
            "77\n"
          ]
        }
      ],
      "source": [
        "#simple program for sum \"+\" using int\n",
        "n1=int(input())\n",
        "n2=int(input())\n",
        "total=n1+n2\n",
        "print(n1,n2)\n",
        "print(total)"
      ]
    },
    {
      "cell_type": "code",
      "source": [
        "#simple program for sum \"+\" using float\n",
        "n1=float(input())\n",
        "n2=float(input())\n",
        "total=n1+n2\n",
        "print(n1,n2)\n",
        "print(total)"
      ],
      "metadata": {
        "id": "VdVtrRr_CKvW",
        "colab": {
          "base_uri": "https://localhost:8080/"
        },
        "outputId": "a0f07e04-f22d-4c2e-8922-45652ba207fb"
      },
      "execution_count": null,
      "outputs": [
        {
          "output_type": "stream",
          "name": "stdout",
          "text": [
            "67.54\n",
            "54.9\n",
            "67.54 54.9\n",
            "122.44\n"
          ]
        }
      ]
    },
    {
      "cell_type": "code",
      "source": [
        "#simple program for sum \"+\" using string\n",
        "n1=str(input())\n",
        "n2=str(input())\n",
        "total=n1 + n2\n",
        "print(n1,n2)\n",
        "print(total)"
      ],
      "metadata": {
        "colab": {
          "base_uri": "https://localhost:8080/"
        },
        "id": "2fm1Fph8PrOH",
        "outputId": "3e0f3811-e8f8-4a1b-d4fa-1f4a992f950e"
      },
      "execution_count": null,
      "outputs": [
        {
          "output_type": "stream",
          "name": "stdout",
          "text": [
            "india\n",
            " won the match\n",
            "india  won the match\n",
            "india won the match\n"
          ]
        }
      ]
    },
    {
      "cell_type": "code",
      "source": [
        "# simple program on string with index operation\n",
        "s1=str(input(\"enter the string\"))\n",
        "print(s1[4])\n",
        "print(s1[-3])\n",
        "print(\"length:\",len(s1))\n",
        "print(s1.upper( ))\n",
        "print(s1.lower( ))\n",
        "print(s1[2:5])\n",
        "print(s1[::-1])"
      ],
      "metadata": {
        "colab": {
          "base_uri": "https://localhost:8080/"
        },
        "id": "wK_BF2yrRl-f",
        "outputId": "9f834483-545f-4e6c-aa58-323c8bc8cf1e"
      },
      "execution_count": null,
      "outputs": [
        {
          "output_type": "stream",
          "name": "stdout",
          "text": [
            "enter the stringIndia\n",
            "a\n",
            "d\n",
            "length: 5\n",
            "INDIA\n",
            "india\n",
            "dia\n",
            "aidnI\n"
          ]
        }
      ]
    },
    {
      "cell_type": "code",
      "source": [
        "#simple program on list operations\n",
        "fruits=[\"orange\",\"banana\",\"mango\"]\n",
        "print(fruits[1])\n",
        "print(fruits[-1])\n",
        "print(\"original list:\")\n",
        "print(fruits)\n",
        "print(\"appended list is:\")\n",
        "fruits.append(\"grapes\")\n",
        "print(fruits)\n",
        "print(\"deleted list is:\")\n",
        "fruits.remove(\"banana\")\n",
        "print(fruits)\n",
        "fruits.sort()\n",
        "print(fruits)\n",
        "fruits.pop()\n",
        "print(fruits)\n",
        "fruits.reverse()\n",
        "print(fruits)\n"
      ],
      "metadata": {
        "colab": {
          "base_uri": "https://localhost:8080/"
        },
        "id": "7jv3KYTrUlgn",
        "outputId": "b06a49c3-09a7-4fb2-cd6a-544356f2f323"
      },
      "execution_count": null,
      "outputs": [
        {
          "output_type": "stream",
          "name": "stdout",
          "text": [
            "banana\n",
            "mango\n",
            "original list:\n",
            "['orange', 'banana', 'mango']\n",
            "appended list is:\n",
            "['orange', 'banana', 'mango', 'grapes']\n",
            "deleted list is:\n",
            "['orange', 'mango', 'grapes']\n",
            "['grapes', 'mango', 'orange']\n",
            "['grapes', 'mango']\n",
            "['mango', 'grapes']\n"
          ]
        }
      ]
    },
    {
      "cell_type": "code",
      "source": [
        "#simple program on dictionary datatypes and operations\n",
        "person={'name':'syed ahamed ali', 'age':22}\n",
        "print(person['name'])\n",
        "print(person['age'])\n",
        "person['city']='vijayawada'\n",
        "print(person)\n",
        "# get keyword, keys , values\n",
        "print(person.get(\"age\"))\n",
        "print(person.keys())\n",
        "print(person.values())"
      ],
      "metadata": {
        "colab": {
          "base_uri": "https://localhost:8080/"
        },
        "id": "_hgo3WYlepkY",
        "outputId": "8411a324-ddef-4793-fec2-c319cda587c8"
      },
      "execution_count": null,
      "outputs": [
        {
          "output_type": "stream",
          "name": "stdout",
          "text": [
            "syed ahamed ali\n",
            "22\n",
            "{'name': 'syed ahamed ali', 'age': 22, 'city': 'vijayawada'}\n",
            "22\n",
            "dict_keys(['name', 'age', 'city'])\n",
            "dict_values(['syed ahamed ali', 22, 'vijayawada'])\n"
          ]
        }
      ]
    },
    {
      "cell_type": "code",
      "source": [
        "#simple programs on tuples datatypes\n",
        "tup=('1',[0,1],'sky',56,66.92)\n",
        "print(tup[0])\n",
        "print(tup[1][:1])\n",
        "print(len(tup))\n",
        "print(tup[1:3])\n",
        "#membership operate which check the element present in tuple or not\n",
        "print(66.92 in tup)\n",
        "print(66.92 not in tup)"
      ],
      "metadata": {
        "colab": {
          "base_uri": "https://localhost:8080/"
        },
        "id": "nrE9F43AjWFA",
        "outputId": "b306b912-e504-4efa-c566-62a0ddfd2505"
      },
      "execution_count": null,
      "outputs": [
        {
          "output_type": "stream",
          "name": "stdout",
          "text": [
            "1\n",
            "[0]\n",
            "5\n",
            "([0, 1], 'sky')\n",
            "True\n",
            "False\n"
          ]
        }
      ]
    },
    {
      "cell_type": "code",
      "source": [
        "# tuple with a list\n",
        "t=(1,2,[3,4,5])\n",
        "print(t)\n",
        "t[2].append(6)\n",
        "print(t)\n",
        "t[2][2]=55\n",
        "print(t)\n"
      ],
      "metadata": {
        "colab": {
          "base_uri": "https://localhost:8080/"
        },
        "id": "1qvNLnQvk88h",
        "outputId": "bda9097e-b6ce-4c50-fe70-1e5a352a8b4b"
      },
      "execution_count": null,
      "outputs": [
        {
          "output_type": "stream",
          "name": "stdout",
          "text": [
            "(1, 2, [3, 4, 5])\n",
            "(1, 2, [3, 4, 5, 6])\n",
            "(1, 2, [3, 4, 55, 6])\n"
          ]
        }
      ]
    },
    {
      "cell_type": "code",
      "source": [
        "#nested list\n",
        "nes=[[1,2],[3,4],[5,6]]\n",
        "print(nes)\n",
        "print(nes[0])\n",
        "print(nes[1][0])"
      ],
      "metadata": {
        "colab": {
          "base_uri": "https://localhost:8080/"
        },
        "id": "TpbtWcTKpFJK",
        "outputId": "357e1dd4-edd8-442a-826f-58d1d1166ba5"
      },
      "execution_count": null,
      "outputs": [
        {
          "output_type": "stream",
          "name": "stdout",
          "text": [
            "[[1, 2], [3, 4], [5, 6]]\n",
            "[1, 2]\n",
            "3\n"
          ]
        }
      ]
    },
    {
      "cell_type": "code",
      "source": [],
      "metadata": {
        "id": "14NDM84_C0Yj"
      },
      "execution_count": null,
      "outputs": []
    }
  ]
}